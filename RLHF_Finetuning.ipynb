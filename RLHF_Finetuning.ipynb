{
 "cells": [
  {
   "cell_type": "code",
   "execution_count": null,
   "id": "f2adad02",
   "metadata": {},
   "outputs": [],
   "source": [
    "from transformers import AutoModelForCausalLM, AutoTokenizer\n",
    "from trl import DPOConfig, DPOTrainer\n",
    "from datasets import load_dataset"
   ]
  },
  {
   "cell_type": "code",
   "execution_count": 27,
   "id": "69e9b3c8",
   "metadata": {},
   "outputs": [
    {
     "name": "stderr",
     "output_type": "stream",
     "text": [
      "Generating train split: 100%|██████████| 62135/62135 [00:02<00:00, 22857.56 examples/s]\n",
      "Generating test split: 100%|██████████| 1000/1000 [00:00<00:00, 37349.10 examples/s]\n"
     ]
    }
   ],
   "source": [
    "train_dataset = load_dataset(\"trl-lib/ultrafeedback_binarized\", split=\"train\")"
   ]
  },
  {
   "cell_type": "code",
   "execution_count": 41,
   "id": "17a01748",
   "metadata": {},
   "outputs": [
    {
     "data": {
      "text/plain": [
       "[{'content': 'Use the pygame library to write a version of the classic game Snake, with a unique twist',\n",
       "  'role': 'user'},\n",
       " {'content': \"Sure, I'd be happy to help you write a version of the classic game Snake using the pygame library! Here's a basic outline of how we can approach this:\\n\\n1. First, we'll need to set up the game display and create a game object that we can use to handle the game's state.\\n2. Next, we'll create the game's grid, which will be used to represent the game board. We'll need to define the size of the grid and the spaces within it.\\n3. After that, we'll create the snake object, which will be used to represent the player's movement. We'll need to define the size of the snake and the speed at which it moves.\\n4. We'll also need to create a food object, which will be used to represent the food that the player must collect to score points. We'll need to define the location of the food and the speed at which it moves.\\n5. Once we have these objects set up, we can start handling the game's logic. We'll need to define the rules for the player's movements, such as how the player can move the snake and how the snake will grow as the player collects more food.\\n6. We'll also need to add collisions detection to the game, so that the snake and the food can collide with each other.\\n7. Finally, we'll need to add a user interface to the game, such as a menu and a scoreboard.\\n\\nNow, as for the unique twist, we could add a few features to make the game more interesting. For example, we could add power-ups that give the player special abilities, such as the ability to grow the snake faster or to change its direction. We could also add obstacles, such as walls or pits, that the player must avoid.\\n\\nHere's some sample code to get us started:\\n```\\nimport pygame\\n\\n# Initialize pygame\\npygame.init()\\n\\n# Set up the game display\\nwidth = 800\\nheight = 600\\nscreen = pygame.display.set_mode((width, height))\\n\\n# Define the colors\\nWHITE = (255, 255, 255)\\nBLACK = (0, 0, 0)\\nGREEN = (0, 255, 0)\\n\\n# Define the game objects\\nsnake = pygame.Rect(50, 50, 10, 10)\\nfood = pygame.Rect(100, 100, 10, 10)\\n\\n# Define the game logic\\ndef update_snake():\\n    # Get the mouse position\\n    mouse_pos = pygame.mouse.get_pos()\\n\\n    # Move the snake based on the mouse position\\n    if mouse_pos[0] > snake.x:\\n        snake.x += 10\\n    elif mouse_pos[0] < snake.x:\\n        snake.x -= 10\\n    elif mouse_pos[1] > snake.y:\\n        snake.y += 10\\n    elif mouse_pos[1] < snake.y:\\n        snake.y -= 10\\n\\n    # Update the snake's size\\n    if snake.x == food.x and snake.y == food.y:\\n        snake.width += 10\\n        snake.height += 10\\n\\n# Define the game loop\\ndef game_loop():\\n    # Clear the screen\\n    screen.fill(BLACK)\\n\\n    # Update the game objects\\n    update_snake()\\n\\n    # Draw the game objects\\n    screen.fill(WHITE)\\n    screen.draw.rect(snake, GREEN)\\n    screen.draw.rect(food, BLACK)\\n\\n    # Update the display\\n    pygame.display.flip()\\n\\n# Start the game loop\\ngame_loop()\\n\\n# Run the game\\nwhile True:\\n    for event in pygame.event.get():\\n        if event.type == pygame.QUIT:\\n            pygame.quit()\\n            break\\n\\n    pygame.time.Clock().tick(60)\\n```\\nThis code sets up a basic game display, defines the snake and food objects, and updates the game state based on the player's movements. We've also added a simple user interface and some basic collision detection.\\n\\nAs for the unique twist, we could add a few features to make the game\",\n",
       "  'role': 'assistant'}]"
      ]
     },
     "execution_count": 41,
     "metadata": {},
     "output_type": "execute_result"
    }
   ],
   "source": [
    "train_dataset[0]['chosen']"
   ]
  },
  {
   "cell_type": "code",
   "execution_count": null,
   "id": "3e6720d7",
   "metadata": {},
   "outputs": [],
   "source": [
    "model_id = \"Qwen/Qwen2.5-0.5B-Instruct\"\n",
    "model = AutoModelForCausalLM.from_pretrained(model_id)\n",
    "tokenizer = AutoTokenizer.from_pretrained(model_id)"
   ]
  },
  {
   "cell_type": "code",
   "execution_count": 38,
   "id": "5378b912",
   "metadata": {},
   "outputs": [
    {
     "name": "stderr",
     "output_type": "stream",
     "text": [
      "Setting `pad_token_id` to `eos_token_id`:151645 for open-end generation.\n"
     ]
    },
    {
     "name": "stdout",
     "output_type": "stream",
     "text": [
      "Creating a version of the classic game Snake using the pygame library involves several steps. Below is a simplified version of how you might approach this task. This example will focus on creating a basic snake game with a unique twist: the snake can move in a diagonal direction.\n",
      "\n",
      "First, ensure you have the pygame library installed. You can install it using pip if you haven't already:\n",
      "\n",
      "```bash\n",
      "pip install pygame\n",
      "```\n",
      "\n",
      "Now, let's write the code for the Snake game:\n",
      "\n",
      "```python\n",
      "import pygame\n",
      "import random\n",
      "\n",
      "# Initialize pygame\n",
      "pygame.init()\n",
      "\n",
      "# Screen dimensions\n",
      "SCREEN_WIDTH = 800\n",
      "SCREEN_HEIGHT = 600\n",
      "\n",
      "# Colors\n",
      "WHITE = (255, 255, 255)\n",
      "BLACK = (0, 0, 0)\n",
      "RED = (255, 0, 0)\n",
      "GREEN = (0, 255, 0)\n",
      "BLUE = (0, 0, 255)\n",
      "\n",
      "# Snake size\n",
      "SNAKE_SIZE = 20\n",
      "\n",
      "# Snake head position\n",
      "snake_head = [SCREEN_WIDTH // 2, SCREEN_HEIGHT // 2]\n",
      "\n",
      "# Snake body\n",
      "snake_body = [[snake_head[0], snake_head[1]]]\n",
      "\n",
      "# Food position\n",
      "food = [random.randint(0, SCREEN_WIDTH - SNAKE_SIZE), random.randint(0, SCREEN_HEIGHT - SNAKE_SIZE)]\n",
      "\n",
      "# Game clock\n",
      "clock = pygame.time.Clock()\n",
      "\n",
      "# Game variables\n",
      "snake_speed = 15\n",
      "\n",
      "# Game loop\n",
      "def main():\n",
      "    global snake_speed\n",
      "    screen = pygame.display.set_mode((SCREEN_WIDTH, SCREEN_HEIGHT))\n",
      "    pygame.display.set_caption(\"Snake Game\")\n",
      "\n",
      "    running = True\n",
      "    while running:\n",
      "        for event in pygame.event.get():\n",
      "            if event.type == pygame.QUIT:\n",
      "                running = False\n",
      "\n",
      "        # Move the snake\n",
      "        if event.type == pygame.KEYDOWN:\n",
      "            if event.key == pygame.K_LEFT:\n",
      "                snake_head[0] -= SNAKE_SIZE\n",
      "            elif event.key == pygame.K_RIGHT:\n",
      "                snake_head[0] += SNAKE_SIZE\n",
      "            elif event.key == pygame.K_UP:\n",
      "                snake_head[1] -= SNAKE_SIZE\n",
      "            elif event.key == pygame.K_DOWN:\n",
      "                snake_head[1] += SNAKE_SIZE\n",
      "\n",
      "        # Check for collision with the walls\n",
      "        if snake_head[0] < 0 or snake_head[0] >=\n"
     ]
    }
   ],
   "source": [
    "messages = [\n",
    "    train_dataset[0]['chosen'][0],\n",
    "]\n",
    "\n",
    "inputs = tokenizer.apply_chat_template(\n",
    "\tmessages,\n",
    "\tadd_generation_prompt=True,\n",
    "\ttokenize=True,\n",
    "\treturn_dict=True,\n",
    "\treturn_tensors=\"pt\",\n",
    ").to(model.device)\n",
    "\n",
    "outputs = model.generate(**inputs, max_new_tokens=500)\n",
    "raw_output = tokenizer.decode(outputs[0][inputs[\"input_ids\"].shape[-1]:])\n",
    "print(raw_output.replace(\"<|im_end|>\",\"\"))"
   ]
  },
  {
   "cell_type": "code",
   "execution_count": 48,
   "id": "c3e0ea24",
   "metadata": {},
   "outputs": [
    {
     "name": "stderr",
     "output_type": "stream",
     "text": [
      "/home/albatrosfirst/rlhf_finetuning/.venv/lib/python3.10/site-packages/transformers/training_args.py:1604: FutureWarning: using `no_cuda` is deprecated and will be removed in version 5.0 of 🤗 Transformers. Use `use_cpu` instead\n",
      "  warnings.warn(\n"
     ]
    }
   ],
   "source": [
    "training_args = DPOConfig(output_dir=\"Qwen2-0.5B-DPO\",no_cuda=True)"
   ]
  },
  {
   "cell_type": "code",
   "execution_count": 49,
   "id": "948dda4b",
   "metadata": {},
   "outputs": [
    {
     "ename": "",
     "evalue": "",
     "output_type": "error",
     "traceback": [
      "\u001b[1;31mThe Kernel crashed while executing code in the current cell or a previous cell. \n",
      "\u001b[1;31mPlease review the code in the cell(s) to identify a possible cause of the failure. \n",
      "\u001b[1;31mClick <a href='https://aka.ms/vscodeJupyterKernelCrash'>here</a> for more info. \n",
      "\u001b[1;31mView Jupyter <a href='command:jupyter.viewOutput'>log</a> for further details."
     ]
    }
   ],
   "source": [
    "trainer = DPOTrainer(model=model, args=training_args, processing_class=tokenizer, train_dataset=train_dataset)"
   ]
  }
 ],
 "metadata": {
  "kernelspec": {
   "display_name": ".venv",
   "language": "python",
   "name": "python3"
  },
  "language_info": {
   "codemirror_mode": {
    "name": "ipython",
    "version": 3
   },
   "file_extension": ".py",
   "mimetype": "text/x-python",
   "name": "python",
   "nbconvert_exporter": "python",
   "pygments_lexer": "ipython3",
   "version": "3.10.12"
  }
 },
 "nbformat": 4,
 "nbformat_minor": 5
}
